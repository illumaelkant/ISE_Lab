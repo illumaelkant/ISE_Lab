{
 "cells": [
  {
   "cell_type": "markdown",
   "metadata": {},
   "source": [
    "# Bài toán phân loại sử dụng SVM \n"
   ]
  },
  {
   "cell_type": "markdown",
   "metadata": {},
   "source": [
    "Mục tiêu: \n",
    "\n",
    "- Xây dựng được mô hình svm sử dụng thư viện sklearn. \n",
    "- Ứng dụng, hiểu cách áp dụng mô hình svm vào giải quyết bài toán thực tế (vd: phân loại tin tức dạng văn bản) .\n",
    "- Sử dụng độ đo Accuracy để làm độ đo đánh giá chất lượng mô hình. \n",
    "\n",
    "Vấn đề: \n",
    "\n",
    "- Có một tập các văn bản dạng text không có nhãn, làm sao để biết văn bản này là thuộc về thể loại nào, pháp luật, đời sống, văn học, thể thao ...\n",
    "- Cần xây dựng mô hình học máy phân loại các thể loại của văn bản dựa trên nội dung.  \n",
    "\n",
    "Dữ liệu: \n",
    "\n",
    "- Có tập các văn bản và nhãn tương ứng của từng văn bản trong một khoảng thời gian \n",
    "- Tập các nhãn - 10 nhãn văn bản: \n",
    "    > Giải trí, Khoa học - Công nghệ, Kinh tế, Pháp luật, Sức khỏe, Thể thao, Thời sự, Tin khác, Độc giả, Đời sống - Xã hội\n",
    "- Ví dụ văn bản nhãn **thể thao**: \n",
    "    > \"Dân_trí Real Madrid đã dẫn trước trong cả trận đấu , nhưng họ vẫn phải chấp_nhận bị Dortmund cầm hòa 2-2 ở Bernabeu . Real Madrid chấp_nhận đứng thứ_hai ở bảng F Champions League ...\"\n",
    "\n",
    "Bài toán: \n",
    "\n",
    "- Input: tập các từ trong văn bản 1 mẫu dữ liệu $X = [x_1, x_2, ... x_n]$\n",
    "- Output: nhãn $y$ là 1 trong 10 nhãn trên "
   ]
  },
  {
   "cell_type": "markdown",
   "metadata": {},
   "source": [
    "### Tong quan ve cac buoc thuc hien:\n",
    "#### Buoc 1\n",
    "1. Tien xu ly van ban (Loai bo cac tu noi, dau cau khong can thiet)\n",
    "2. Tach tu (Tokenization)\n",
    "#### Buoc 2\n",
    "Dem tan suat tu va danh trong so (Muc do quan trong)\n",
    "#### Buoc 3:\n",
    "Huan luyen mo hinh SVM\n",
    "#### Buoc 4:\n",
    "Du doan va danh gia\n"
   ]
  },
  {
   "cell_type": "code",
   "execution_count": 1,
   "metadata": {},
   "outputs": [
    {
     "name": "stdout",
     "output_type": "stream",
     "text": [
      "Requirement already satisfied: pyvi in /home/thien/anaconda3/lib/python3.12/site-packages (0.1.1)\n",
      "Requirement already satisfied: scikit-learn in /home/thien/anaconda3/lib/python3.12/site-packages (from pyvi) (1.5.1)\n",
      "Requirement already satisfied: sklearn-crfsuite in /home/thien/anaconda3/lib/python3.12/site-packages (from pyvi) (0.5.0)\n",
      "Requirement already satisfied: numpy>=1.19.5 in /home/thien/anaconda3/lib/python3.12/site-packages (from scikit-learn->pyvi) (1.26.4)\n",
      "Requirement already satisfied: scipy>=1.6.0 in /home/thien/anaconda3/lib/python3.12/site-packages (from scikit-learn->pyvi) (1.13.1)\n",
      "Requirement already satisfied: joblib>=1.2.0 in /home/thien/anaconda3/lib/python3.12/site-packages (from scikit-learn->pyvi) (1.4.2)\n",
      "Requirement already satisfied: threadpoolctl>=3.1.0 in /home/thien/anaconda3/lib/python3.12/site-packages (from scikit-learn->pyvi) (3.5.0)\n",
      "Requirement already satisfied: python-crfsuite>=0.9.7 in /home/thien/anaconda3/lib/python3.12/site-packages (from sklearn-crfsuite->pyvi) (0.9.11)\n",
      "Requirement already satisfied: tabulate>=0.4.2 in /home/thien/anaconda3/lib/python3.12/site-packages (from sklearn-crfsuite->pyvi) (0.9.0)\n",
      "Requirement already satisfied: tqdm>=2.0 in /home/thien/anaconda3/lib/python3.12/site-packages (from sklearn-crfsuite->pyvi) (4.66.5)\n"
     ]
    }
   ],
   "source": [
    "# Cài đặt thư viện xử lý ngôn ngữ cho tiếng Việt!\n",
    "!pip install pyvi"
   ]
  },
  {
   "cell_type": "code",
   "execution_count": 2,
   "metadata": {},
   "outputs": [],
   "source": [
    "import matplotlib.pyplot as plt\n",
    "import numpy as np\n",
    "\n",
    "from sklearn.datasets import load_files\n",
    "from pyvi import ViTokenizer\n",
    "\n",
    "\n",
    "from sklearn import svm\n",
    "from sklearn.feature_extraction.text import CountVectorizer, TfidfVectorizer\n",
    "from sklearn.feature_extraction.text import TfidfTransformer\n",
    "from sklearn.model_selection import train_test_split, GridSearchCV\n",
    "from sklearn.pipeline import Pipeline\n",
    "from sklearn.model_selection import ShuffleSplit\n",
    "from sklearn.model_selection import learning_curve\n",
    "\n",
    "%matplotlib inline"
   ]
  },
  {
   "cell_type": "markdown",
   "metadata": {},
   "source": [
    "## 1. Sử dụng sklearn.datasets.load_files để load dữ liệu từ thư mục đã down từ trước\n",
    "\n",
    "Cấu trúc thư mục như sau \n",
    "\n",
    "- data/news_1135/\n",
    "\n",
    "    - Kinh tế: \n",
    "        - bài báo 1.txt \n",
    "        - bài báo 2.txt \n",
    "    - Pháp luật\n",
    "        - bài báo 3.txt \n",
    "        - bài báo 4.txt "
   ]
  },
  {
   "cell_type": "markdown",
   "metadata": {},
   "source": []
  },
  {
   "cell_type": "code",
   "execution_count": 3,
   "metadata": {},
   "outputs": [
    {
     "name": "stdout",
     "output_type": "stream",
     "text": [
      "['data/news_1135/Pháp luật/0e7537e00a4dd4c8c1b8d786858885c920311800.txt'\n",
      " 'data/news_1135/Thời sự/7ea376282b8acc4cb3784dbaa9fa995b52e57ce1.txt'\n",
      " 'data/news_1135/Thể thao/e78ef641b159653587e011d5929935b33e78c8d8.txt'\n",
      " ...\n",
      " 'data/news_1135/Tin kh†c/79a417e6e6db3325e0a9485fe4e7ed504f526ec7.txt'\n",
      " 'data/news_1135/Thể thao/5ee1dd38f31f2c61aa851907eddbc3d84dbad1b4.txt'\n",
      " 'data/news_1135/Thời sự/4d983a17cb022cdb89d9ddcdfe6475b32f4673e1.txt']\n",
      "\n",
      "Tong so file: 1027\n",
      "Danh sách nhãn và id tương ứng:  [(0, 'Giải trí'), (1, 'Khoa học - Công nghệ'), (2, 'Kinh tế'), (3, 'Pháp luật'), (4, 'Sức khỏe'), (5, 'Thể thao'), (6, 'Thời sự'), (7, 'Tin kh†c'), (8, 'Đời sống - Xã hội'), (9, 'Độc giả')]\n"
     ]
    }
   ],
   "source": [
    "data_train = load_files(container_path=\"data/news_1135/\", encoding=\"utf-8\")\n",
    "\n",
    "print(data_train.filenames)\n",
    "print()\n",
    "\n",
    "print(\"Tong so file: {}\" .format( len(data_train.filenames)))\n",
    "print(\"Danh sách nhãn và id tương ứng: \", [(idx, name) for idx, name in enumerate(data_train.target_names)] )\n"
   ]
  },
  {
   "cell_type": "markdown",
   "metadata": {},
   "source": [
    "###  Tiền xử lý dữ liệu đưa dữ liệu từ dạng text về dạng ma trận \n",
    "\n",
    "- Thử nghiệm để kiểm tra hoạt động chuyển hoá dữ liệu về dạng ma trận "
   ]
  },
  {
   "cell_type": "code",
   "execution_count": 4,
   "metadata": {
    "scrolled": true
   },
   "outputs": [
    {
     "name": "stdout",
     "output_type": "stream",
     "text": [
      "Danh sách 10 từ dừng đầu tiên (từ không mang ý nghĩa phân loại):  ['a_lô', 'a_ha', 'ai', 'ai_ai', 'ai_nấy', 'ai_đó', 'alô', 'amen', 'anh', 'anh_ấy']\n",
      "10 từ đầu tiên trong từ điển:\n",
      "1 :  ('dân_trí', 6637)\n",
      "2 :  ('trình_báo', 18949)\n",
      "3 :  ('sống', 17035)\n",
      "4 :  ('lâu_năm', 11077)\n",
      "5 :  ('chùa', 4684)\n",
      "6 :  ('chiều', 4401)\n",
      "7 :  ('tượng', 19801)\n",
      "8 :  ('phật', 14925)\n",
      "9 :  ('chánh', 4551)\n",
      "10 :  ('điện', 22142)\n",
      "11 :  ('nam', 12684)\n"
     ]
    }
   ],
   "source": [
    "# load dữ liệu các stopwords \n",
    "with open(\"data/vietnamese-stopwords.txt\",encoding=\"utf-8\") as f:\n",
    "    stopwords = f.readlines()\n",
    "stopwords = [x.strip().replace(\" \", \"_\") for x in stopwords] \n",
    "print(\"Danh sách 10 từ dừng đầu tiên (từ không mang ý nghĩa phân loại): \", stopwords[:10])\n",
    "\n",
    "# Transforming data \n",
    "# Chuyển hoá dữ liệu text về dạng vector tfidf \n",
    "#     - loại bỏ từ dừng\n",
    "#     - sinh từ điển\n",
    "module_count_vector = CountVectorizer(stop_words=stopwords)\n",
    "model_rf_preprocess = Pipeline([('vect', module_count_vector),\n",
    "                    ('tfidf', TfidfTransformer()),\n",
    "                    ])\n",
    "# Hàm thực hiện chuyển đổi dữ liệu text thành dữ liệu số dạng ma trận \n",
    "# Input: Dữ liệu 2 chiều dạng numpy.array, mảng nhãn id dạng numpy.array \n",
    "data_preprocessed = model_rf_preprocess.fit_transform(data_train.data, data_train.target)\n",
    "print(\"10 từ đầu tiên trong từ điển:\")\n",
    "i = 0\n",
    "for k,v in module_count_vector.vocabulary_.items():\n",
    "    i+=1\n",
    "    print(i, \": \", (k, v))\n",
    "    if i > 10:\n",
    "        break "
   ]
  },
  {
   "cell_type": "markdown",
   "metadata": {},
   "source": [
    "### Bài 1: Sử dụng trực tiếp TfidfVectorizer()\n",
    "https://scikit-learn.org/stable/modules/generated/sklearn.feature_extraction.text.TfidfVectorizer.html"
   ]
  },
  {
   "cell_type": "code",
   "execution_count": 13,
   "metadata": {},
   "outputs": [
    {
     "name": "stdout",
     "output_type": "stream",
     "text": [
      "10 tu trong van ban dau tien co gia tri tf-idf cao nhat:\n",
      "chùa: 0.4024\n",
      "tượng: 0.3165\n",
      "trình_báo: 0.2414\n",
      "vàng: 0.2010\n",
      "phật: 0.1954\n",
      "công_an: 0.1939\n",
      "đục: 0.1871\n",
      "thủ_đức: 0.1808\n",
      "cất_giấu: 0.1712\n",
      "cột: 0.1712\n"
     ]
    }
   ],
   "source": [
    "# Chú ý: có thể biến đổi dữ liệu về dạng Tf-Idf trực tiếp sử dụng TfidfVectorizer()\n",
    "# Bài tập: \n",
    "# - thực hiện điều đó\n",
    "# - hiển thị 10 từ trong văn bản đầu tiên có giá trị tfidf cao nhất\n",
    "# code\n",
    "\n",
    "vectorizer = TfidfVectorizer(stop_words=stopwords)\n",
    "X_tfidf = vectorizer.fit_transform(data_train.data)\n",
    "\n",
    "## Hien thi 10 tu co gia tri tfdif cao nhat:\n",
    "\n",
    "\n",
    "doc_vector = X_tfidf[0].toarray()[0]\n",
    "top_indices = doc_vector.argsort()[::-1][:10]\n",
    "\n",
    "print(\"10 tu trong van ban dau tien co gia tri tf-idf cao nhat:\")\n",
    "feature_name = vectorizer.get_feature_names_out()\n",
    "\n",
    "for idx in top_indices:\n",
    "    print(f\"{feature_name[idx]}: {doc_vector[idx]:.4f}\")\n"
   ]
  },
  {
   "cell_type": "markdown",
   "metadata": {},
   "source": [
    "### Chia dữ liệu làm 2 phần training và testing \n",
    "\n",
    "- Training chiếm 80 % dữ liệu \n",
    "- Testing chiếm 20 % dữ liệu "
   ]
  },
  {
   "cell_type": "code",
   "execution_count": 14,
   "metadata": {},
   "outputs": [
    {
     "name": "stdout",
     "output_type": "stream",
     "text": [
      "Dữ liệu training:  (821, 23343) (821,)\n",
      "Dữ liệu testing:  (206, 23343) (206,)\n",
      "Danh sách nhãn và id tương ứng:  [(0, 'Giải trí'), (1, 'Khoa học - Công nghệ'), (2, 'Kinh tế'), (3, 'Pháp luật'), (4, 'Sức khỏe'), (5, 'Thể thao'), (6, 'Thời sự'), (7, 'Tin kh†c'), (8, 'Đời sống - Xã hội'), (9, 'Độc giả')]\n"
     ]
    }
   ],
   "source": [
    "from sklearn.model_selection import ShuffleSplit\n",
    "\n",
    "# chia dữ liệu thành 2 phần sử dụng hàm train_test_split.\n",
    "test_size = 0.2\n",
    "# cv = ShuffleSplit(n_splits=10, test_size=0.2, random_state=0)\n",
    "X_train, X_test, y_train, y_test = train_test_split( data_preprocessed, data_train.target, test_size=test_size)\n",
    "\n",
    "# hiển thị một số thông tin về dữ liệu \n",
    "print(\"Dữ liệu training: \", X_train.shape, y_train.shape)\n",
    "print(\"Dữ liệu testing: \", X_test.shape, y_test.shape)\n",
    "print(\"Danh sách nhãn và id tương ứng: \", [(idx, name) for idx, name in enumerate(data_train.target_names)] )"
   ]
  },
  {
   "cell_type": "markdown",
   "metadata": {},
   "source": [
    "## 2. Training svm model \n",
    "\n",
    "Sử dụng thư viện sklearn để xây dựng mô hình\n",
    "-  Thử trước với hàm nhân phân tách là Linear, tham số C=1.0\n",
    "- `svm.SVC(kernel='linear', C=1.0)`\n",
    " "
   ]
  },
  {
   "cell_type": "code",
   "execution_count": 15,
   "metadata": {},
   "outputs": [
    {
     "name": "stdout",
     "output_type": "stream",
     "text": [
      "- Training ...\n",
      "- Train size = (821, 23343)\n",
      "- model - train complete\n"
     ]
    }
   ],
   "source": [
    "print(\"- Training ...\")\n",
    "print(\"- Train size = {}\".format(X_train.shape))\n",
    "model = svm.SVC(kernel='linear', C=1)\n",
    "model.fit(X_train, y_train)\n",
    "print(\"- model - train complete\")\n"
   ]
  },
  {
   "cell_type": "markdown",
   "metadata": {},
   "source": [
    "## 3. Testing svm model \n",
    "\n",
    "Thực hiện dự đoán nhãn cho từng văn bản trong tập test \n",
    "\n",
    "Độ đo đánh giá: \n",
    "> accuracy = tổng số văn bản dự đoán đúng  / tổng số văn bản có trong tập test  "
   ]
  },
  {
   "cell_type": "code",
   "execution_count": 16,
   "metadata": {},
   "outputs": [
    {
     "name": "stdout",
     "output_type": "stream",
     "text": [
      "- Testing ...\n",
      "- Test Acc = 0.8932038834951457\n",
      "- Train Acc = 0.9951278928136419\n"
     ]
    }
   ],
   "source": [
    "from sklearn.metrics import accuracy_score\n",
    "print(\"- Testing ...\")\n",
    "y_test_pred = model.predict(X_test)\n",
    "y_train_pred = model.predict(X_train)\n",
    "print(\"- Test Acc = {}\".format(accuracy_score(y_test, y_test_pred)))\n",
    "print(\"- Train Acc = {}\".format(accuracy_score(y_train, y_train_pred)))\n"
   ]
  },
  {
   "cell_type": "markdown",
   "metadata": {},
   "source": [
    "### Bài 2: thực hiện lại các bước trên với kernel = 'rbf'"
   ]
  },
  {
   "cell_type": "code",
   "execution_count": 17,
   "metadata": {},
   "outputs": [
    {
     "name": "stdout",
     "output_type": "stream",
     "text": [
      "--Training--\n",
      "Train size = (821, 23343)\n",
      "Model - train complete\n"
     ]
    }
   ],
   "source": [
    "#Khoi tao mot mo hinh SVM moi voi Kerner la \"rbf\"\n",
    "\n",
    "print(\"--Training--\")\n",
    "print(\"Train size = {}\".format(X_train.shape))\n",
    "\n",
    "model = svm.SVC(kernel='rbf', C = 1)\n",
    "model.fit(X_train, y_train)\n",
    "print(\"Model - train complete\")\n",
    "\n",
    "\n",
    "\n"
   ]
  },
  {
   "cell_type": "code",
   "execution_count": 18,
   "metadata": {},
   "outputs": [
    {
     "name": "stdout",
     "output_type": "stream",
     "text": [
      "- RBF Kernel:\n",
      "- Test Acc = 0.7815533980582524\n",
      "- Train Acc = 0.9987819732034104\n"
     ]
    }
   ],
   "source": [
    "## Danh gia mo hinh voi kernel = \"rbf\"\n",
    "\n",
    "# Huan luyen lai voi kernel rbf\n",
    "model_rbf = svm.SVC(kernel='rbf', C=1)\n",
    "model_rbf.fit(X_train, y_train)\n",
    "\n",
    "# Danh gia\n",
    "y_test_pred_rbf = model_rbf.predict(X_test)\n",
    "y_train_pred_rbf = model_rbf.predict(X_train)\n",
    "\n",
    "print(\"- RBF Kernel:\")\n",
    "print(\"- Test Acc =\", accuracy_score(y_test, y_test_pred_rbf))\n",
    "print(\"- Train Acc =\", accuracy_score(y_train, y_train_pred_rbf))\n",
    "\n",
    "\n"
   ]
  },
  {
   "cell_type": "markdown",
   "metadata": {},
   "source": [
    "### 3.1. Thực hiện sử dụng model đã được train để infer 1 văn bản mới \n",
    "- Dữ liệu mới đến ở dạng dữ liệu thô => cần tiền xử lý dữ liệu về dạng dữ_liệu_ma_trận\n",
    "- infer sử dụng hàm model.predict(dữ_liệu_ma_trận) "
   ]
  },
  {
   "cell_type": "code",
   "execution_count": 19,
   "metadata": {},
   "outputs": [
    {
     "name": "stdout",
     "output_type": "stream",
     "text": [
      "['Công phượng ghi_bàn cho đội_tuyển Việt_nam']\n",
      "  (0, 5604)\t0.3259420645757043\n",
      "  (0, 7434)\t0.4571409262822909\n",
      "  (0, 14857)\t0.6494454479437373\n",
      "  (0, 20576)\t0.23243650255677087\n",
      "  (0, 23104)\t0.4571409262822909\n"
     ]
    }
   ],
   "source": [
    "# Tiền xử lý dữ liệu sử dụng module model_rf_preprocess. \n",
    "new_doc = \"Công phượng ghi bàn cho đội tuyển Việt nam\"\n",
    "# Trước hết, cần thực hiện tách từ sử dụng pyvi\n",
    "tokenized_new_doc = ViTokenizer.tokenize(new_doc)\n",
    "# Cần đưa văn bản ở dạng mảng/vector\n",
    "tokenized_new_doc = [tokenized_new_doc]\n",
    "print(tokenized_new_doc)\n",
    "# Rồi sử dụng module model_rf_preprocess\n",
    "input_data_preprocessed = model_rf_preprocess.transform(tokenized_new_doc)\n",
    "print(input_data_preprocessed)"
   ]
  },
  {
   "cell_type": "markdown",
   "metadata": {},
   "source": [
    "### Bài 3: dự đoán nhãn của văn bản trên"
   ]
  },
  {
   "cell_type": "code",
   "execution_count": 21,
   "metadata": {},
   "outputs": [
    {
     "name": "stdout",
     "output_type": "stream",
     "text": [
      "Nhan du doan cho van ban moi:  Thể thao\n"
     ]
    }
   ],
   "source": [
    "\n",
    "predict_label_id = model.predict(input_data_preprocessed)\n",
    "predict_label_name = data_train.target_names[predict_label_id[0]]\n",
    "\n",
    "print(\"Nhan du doan cho van ban moi: \", predict_label_name)\n"
   ]
  },
  {
   "cell_type": "markdown",
   "metadata": {},
   "source": [
    "## 4. Bài tập bổ sung: \n",
    "\n",
    "### 4.1 Thử nghiệm các tham số \n",
    "\n",
    "- Các tham số với giá trị khác nhau có thể ảnh hưởng để kết quả học \n",
    "- Cần thử nghiệm kỹ lượng để đưa ra kết quả khách quan: tham số C, gamma, kernel. \n",
    "    - Chọn mô hình với bộ tham số cho kết quả tốt nhất \n",
    "- Gợi ý: \n",
    "    - https://scikit-learn.org/stable/modules/generated/sklearn.svm.SVC.html\n",
    "    - Sử dụng grid search"
   ]
  },
  {
   "cell_type": "markdown",
   "metadata": {},
   "source": [
    "#### Bài 4: Vẽ Learning curve khảo sát Acc của SVM-linear với tham số C thay đổi"
   ]
  },
  {
   "cell_type": "code",
   "execution_count": 22,
   "metadata": {},
   "outputs": [
    {
     "data": {
      "image/png": "[encoded data removed]",
      "text/plain": [
       "<Figure size 1000x600 with 1 Axes>"
      ]
     },
     "metadata": {},
     "output_type": "display_data"
    }
   ],
   "source": [
    "import matplotlib.pyplot as plt\n",
    "from sklearn import svm\n",
    "from sklearn.metrics import accuracy_score\n",
    "\n",
    "# Danh sach gia tri C can khao sat:\n",
    "C_values = [0.01, 0.1, 0.5, 1, 10, 50, 100]\n",
    "\n",
    "# Lưu tru Accuracies\n",
    "train_acc = []\n",
    "test_acc = []\n",
    "\n",
    "# Lap qua tung gia tri cua C\n",
    "for c in C_values:\n",
    "    model = svm.SVC(kernel='linear', C=c)\n",
    "    model.fit(X_train, y_train)\n",
    "\n",
    "    y_train_pred = model.predict(X_train)\n",
    "    y_test_pred = model.predict(X_test)\n",
    "\n",
    "    train_acc.append(accuracy_score(y_train, y_train_pred))\n",
    "    test_acc.append(accuracy_score(y_test, y_test_pred))\n",
    "\n",
    "# Ve bieu do\n",
    "plt.figure(figsize=(10, 6))\n",
    "plt.plot(C_values, train_acc, marker='o', label='Train Accuracy')\n",
    "plt.plot(C_values, test_acc, marker='s', label='Test Accuracy')\n",
    "plt.xscale('log')  \n",
    "plt.xlabel('C value (log scale)')\n",
    "plt.ylabel('Accuracy')\n",
    "plt.title('Accuracy vs C (SVM-linear)')\n",
    "plt.legend()\n",
    "plt.grid(True)\n",
    "plt.show()\n"
   ]
  },
  {
   "cell_type": "markdown",
   "metadata": {},
   "source": [
    "Nhu vay C la tham so phat dieu chinh moi khi mo hinh sai Khi C nho -> Regularization manh  (Mo hinh don gian hon), Khi C lon -> mo hinh tro nen phuc tap hon\n",
    "Khi C nho, do chinh xac cao, khi C lon, do chinh xac thap"
   ]
  },
  {
   "cell_type": "markdown",
   "metadata": {},
   "source": [
    "#### Bài 5: Sử dụng GridSearchCV để tìm bộ tham số tốt nhất"
   ]
  },
  {
   "cell_type": "code",
   "execution_count": 23,
   "metadata": {},
   "outputs": [
    {
     "name": "stdout",
     "output_type": "stream",
     "text": [
      "Fitting 5 folds for each of 72 candidates, totalling 360 fits\n",
      "Best parameters:  {'C': 1, 'gamma': 0.0001, 'kernel': 'linear'}\n",
      "Best accyracy:  0.8574870657797486\n"
     ]
    }
   ],
   "source": [
    "# code\n",
    "# Có thể tham khảo giá trị các tham số như sau\n",
    "params_grid = {'C': [0.001, 0.01, 0.1, 1, 10, 100],\n",
    "          'gamma': [0.0001, 0.001, 0.01, 0.1],\n",
    "          'kernel':['linear','rbf', 'poly'] }\n",
    "\n",
    "\n",
    "grid_sreach = GridSearchCV(svm.SVC(), params_grid, cv = 5, scoring='accuracy', verbose=1)\n",
    "grid_sreach.fit(X_train, y_train)\n",
    "\n",
    "print(\"Best parameters: \", grid_sreach.best_params_)\n",
    "print(\"Best accyracy: \", grid_sreach.best_score_)"
   ]
  },
  {
   "cell_type": "markdown",
   "metadata": {},
   "source": [
    "### 4.2 Phân loại số viết tay "
   ]
  },
  {
   "cell_type": "code",
   "execution_count": 24,
   "metadata": {},
   "outputs": [
    {
     "name": "stdout",
     "output_type": "stream",
     "text": [
      "Dữ liệu training =  (1437, 64) (1437,)\n",
      "Dữ liệu testing =  (360, 64) (360,)\n"
     ]
    }
   ],
   "source": [
    "# Standard scientific Python imports\n",
    "import matplotlib.pyplot as plt\n",
    "\n",
    "# Import datasets, classifiers and performance metrics\n",
    "from sklearn import datasets, svm, metrics\n",
    "\n",
    "# The digits dataset\n",
    "digits = datasets.load_digits()\n",
    "\n",
    "# The data that we are interested in is made of 8x8 images of digits, let's\n",
    "# have a look at the first 4 images, stored in the `images` attribute of the\n",
    "# dataset.  If we were working from image files, we could load them using\n",
    "# matplotlib.pyplot.imread.  Note that each image must have the same size. For these\n",
    "# images, we know which digit they represent: it is given in the 'target' of\n",
    "# the dataset.\n",
    "images_and_labels = list(zip(digits.images, digits.target))\n",
    "for index, (image, label) in enumerate(images_and_labels[:4]):\n",
    "    plt.subplot(2, 4, index + 1)\n",
    "    plt.axis('off')\n",
    "    plt.imshow(image, cmap=plt.cm.gray_r, interpolation='nearest')\n",
    "    plt.title('Training: %i' % label)\n",
    "\n",
    "# To apply a classifier on this data, we need to flatten the image, to\n",
    "# turn the data in a (samples, feature) matrix:\n",
    "n_samples = len(digits.images)\n",
    "data = digits.images.reshape((n_samples, -1))\n",
    "target = digits.target\n",
    "X_train, X_test, y_train, y_test = train_test_split( data, target, test_size=test_size)\n",
    "\n",
    "print(\"Dữ liệu training = \", X_train.shape, y_train.shape)\n",
    "print(\"Dữ liệu testing = \", X_test.shape, y_test.shape)\n"
   ]
  },
  {
   "cell_type": "markdown",
   "metadata": {},
   "source": [
    "#### Bài 6: phân loại với dữ liệu trên"
   ]
  },
  {
   "cell_type": "code",
   "execution_count": 25,
   "metadata": {},
   "outputs": [
    {
     "name": "stdout",
     "output_type": "stream",
     "text": [
      "Training:\n",
      "Model train complete!\n"
     ]
    }
   ],
   "source": [
    "##### exercise #####\n",
    "# Yêu cầu: Ứng dụng mô hình svm vào bài toán phân loại ảnh \n",
    "# Gợi ý: dữ liệu đã được chia train, test, Áp dụng phần 2. và 3. để training và testing model. Chú ý nên có thêm phần tuning model\n",
    "# model = None\n",
    "######################\n",
    "\n",
    "#Training SVM model\n",
    "print(\"Training:\")\n",
    "cv_model = svm.SVC(kernel='linear', C = 1) ## Best model\n",
    "cv_model.fit(X_train, y_train)\n",
    "print(\"Model train complete!\")\n",
    "\n",
    "\n",
    "######################"
   ]
  },
  {
   "cell_type": "code",
   "execution_count": 28,
   "metadata": {},
   "outputs": [
    {
     "name": "stdout",
     "output_type": "stream",
     "text": [
      "- Test acc: 0.975\n",
      "- Train acc = 1.0\n"
     ]
    }
   ],
   "source": [
    "## Testing model:\n",
    "\n",
    "y_cv_test_pred = cv_model.predict(X_test)\n",
    "y_cv_train_pred = cv_model.predict(X_train)\n",
    "\n",
    "print(\"- Test acc: {}\".format(accuracy_score(y_test, y_cv_test_pred)))\n",
    "print(\"- Train acc = {}\".format(accuracy_score(y_train, y_cv_train_pred)))\n"
   ]
  },
  {
   "cell_type": "code",
   "execution_count": 27,
   "metadata": {},
   "outputs": [
    {
     "name": "stdout",
     "output_type": "stream",
     "text": [
      "Fitting 5 folds for each of 72 candidates, totalling 360 fits\n",
      "Best parameters:  {'C': 1, 'gamma': 0.0001, 'kernel': 'linear'}\n",
      "Best accyracy:  0.8574870657797486\n"
     ]
    }
   ],
   "source": [
    "## Turning model dung gridsreach nhu vua nay \n",
    "params_grid2 = {'C': [0.001, 0.01, 0.1, 1, 10, 100],\n",
    "          'gamma': [0.0001, 0.001, 0.01, 0.1],\n",
    "          'kernel':['linear','rbf', 'poly'] }\n",
    "\n",
    "\n",
    "grid_sreach2 = GridSearchCV(svm.SVC(), params_grid, cv = 5, scoring='accuracy', verbose=1)\n",
    "grid_sreach2.fit(X_train, y_train)\n",
    "\n",
    "print(\"Best parameters: \", grid_sreach.best_params_)\n",
    "print(\"Best accyracy: \", grid_sreach.best_score_)"
   ]
  },
  {
   "cell_type": "markdown",
   "metadata": {},
   "source": []
  }
 ],
 "metadata": {
  "kernelspec": {
   "display_name": "base",
   "language": "python",
   "name": "python3"
  },
  "language_info": {
   "codemirror_mode": {
    "name": "ipython",
    "version": 3
   },
   "file_extension": ".py",
   "mimetype": "text/x-python",
   "name": "python",
   "nbconvert_exporter": "python",
   "pygments_lexer": "ipython3",
   "version": "3.12.2"
  }
 },
 "nbformat": 4,
 "nbformat_minor": 2
}
