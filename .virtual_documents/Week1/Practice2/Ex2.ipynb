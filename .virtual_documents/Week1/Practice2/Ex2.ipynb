


import pandas as pd
import numpy as np

df = pd.read_csv('elantra.csv')
df.tail(15)


## Xap xep du lieu theo thu tu cac hang du lieu theo thang, nam:
## Dung df.sort_values va df.reset_index

df = df.sort_values(by = ['Year', 'Month'])




df.reset_index()


import matplotlib.pyplot as plt







plt.figure(figsize = (9,6))

plt.plot(df.ElantraSales.values)

plt.xlabel('Time index')

plt.ylabel('Sales')

plt.show()





nf = df.columns.drop(["ElantraSales", "Month", "Year"])
nf





df_train = df[df.Year < 2013]
df_test = df[df.Year > 2013]

y_train = df_train.ElantraSales.values
y_test = df_test.ElantraSales.values






from sklearn.preprocessing import StandardScaler

scaler = StandardScaler().fit(df_train[nf])

X_train = scaler.transform(df_train[nf])
X_test = scaler.transform(df_test[nf])





import sklearn




from sklearn.linear_model import LinearRegression



our_model = LinearRegression()


our_model.fit(X_train, y_train)


pred = our_model.predict(X_test)






from sklearn.metrics import mean_squared_error

def relative_error(y_true, y_pred):
    errors = np.abs(y_pred - y_true).astype(float)/y_true
    return np.mean(errors)*100




y_pred_test = our_model.predict(X_test)

print('RSME: {:.2f}'.format(np.sqrt(mean_squared_error(y_test, y_pred_test))))
print("Mean relative error: {:.1f}%".format(relative_error(y_test, y_pred_test)))



import matplotlib.pyplot as plt

plt.figure(figsize=(9,6))

plt.plot(y_test, label = 'Actual', marker = 'o')
plt.plot(y_pred_test, label = "Prediction", marker = 'x')

plt.show()








## Tap du lieu theo dac trung Month

month_train = pd.get_dummies(df_train.Month)
month_train.head()






pd.get_dummies(df_train.Month)





X_train = np.hstack((X_train, pd.get_dummies(df_train.Month)))
X_test = np.hstack((X_test, pd.get_dummies(df_test.Month)))


our_model.fit(X_train, y_train)



y_pred_test = our_model.predict(X_test)
print('RMSE: {:.2f}'.format(np.sqrt(mean_squared_error(y_test, y_pred_test))))
print('Mean relative errors: {:.1f}%'.format(relative_error(y_test, y_pred_test)))



