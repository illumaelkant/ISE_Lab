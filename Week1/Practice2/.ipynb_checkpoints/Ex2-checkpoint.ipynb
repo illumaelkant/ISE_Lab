{
 "cells": [
  {
   "cell_type": "markdown",
   "metadata": {},
   "source": [
    "Yeu cau: Du doan doanh thu "
   ]
  }
 ],
 "metadata": {
  "language_info": {
   "name": "python"
  }
 },
 "nbformat": 4,
 "nbformat_minor": 2
}
